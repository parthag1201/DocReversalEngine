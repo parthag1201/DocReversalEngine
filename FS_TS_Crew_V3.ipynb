{
  "cells": [
    {
      "cell_type": "markdown",
      "metadata": {
        "id": "view-in-github",
        "colab_type": "text"
      },
      "source": [
        "<a href=\"https://colab.research.google.com/github/parthag1201/DocReversalEngine/blob/main/FS_TS_Crew_V3.ipynb\" target=\"_parent\"><img src=\"https://colab.research.google.com/assets/colab-badge.svg\" alt=\"Open In Colab\"/></a>"
      ]
    },
    {
      "cell_type": "markdown",
      "metadata": {
        "id": "ato5BCJRg0QP"
      },
      "source": [
        "# ENV Setup"
      ]
    },
    {
      "cell_type": "code",
      "execution_count": null,
      "metadata": {
        "collapsed": true,
        "id": "cF6dM2vmiVyQ"
      },
      "outputs": [],
      "source": [
        "# Install packages for crew and langchain\n",
        "!pip install crewai crewai_tools langchain_community langchain_google_genai fpdf2 markdown2"
      ]
    },
    {
      "cell_type": "code",
      "execution_count": 2,
      "metadata": {
        "id": "UvBf6m_DA384"
      },
      "outputs": [],
      "source": [
        "import google.generativeai as genai\n",
        "from langchain_google_genai import ChatGoogleGenerativeAI, GoogleGenerativeAIEmbeddings"
      ]
    },
    {
      "cell_type": "code",
      "execution_count": 3,
      "metadata": {
        "id": "yPgbqm5dArr9"
      },
      "outputs": [],
      "source": [
        "# pdf read and write\n",
        "from fpdf import FPDF\n",
        "from markdown2 import Markdown"
      ]
    },
    {
      "cell_type": "code",
      "execution_count": 4,
      "metadata": {
        "id": "YcAyfeq2itwz"
      },
      "outputs": [],
      "source": [
        "# Warning Control\n",
        "import warnings\n",
        "warnings.filterwarnings('ignore')"
      ]
    },
    {
      "cell_type": "code",
      "execution_count": 8,
      "metadata": {
        "id": "yplJOE5njU4c"
      },
      "outputs": [],
      "source": [
        "# Import crewAI library\n",
        "from crewai import Agent, Task, Crew, Process\n",
        "from crewai.project import CrewBase, agent, crew, task\n",
        "from crewai.agents.agent_builder.base_agent import BaseAgent\n",
        "from typing import List\n",
        "from crewai.flow.flow import Flow, listen, start"
      ]
    },
    {
      "cell_type": "code",
      "execution_count": 9,
      "metadata": {
        "id": "8lgQw0PWjgPP"
      },
      "outputs": [],
      "source": [
        "import os\n",
        "from google.colab import userdata"
      ]
    },
    {
      "cell_type": "markdown",
      "metadata": {
        "id": "LYTdR_hcg69P"
      },
      "source": [
        "# File Handling"
      ]
    },
    {
      "cell_type": "code",
      "execution_count": null,
      "metadata": {
        "id": "CAVPvlfRDXPH",
        "collapsed": true
      },
      "outputs": [],
      "source": [
        "!pip install PyPDF2"
      ]
    },
    {
      "cell_type": "code",
      "execution_count": 23,
      "metadata": {
        "id": "fTODtRSCBiT7"
      },
      "outputs": [],
      "source": [
        "# 1. Read code from the 'code_files' folder\n",
        "import PyPDF2 # Import PyPDF2 here\n",
        "code_folder_path = 'code_files'\n",
        "if not os.path.exists(code_folder_path):\n",
        "    os.makedirs(code_folder_path)\n",
        "    # Create a dummy file for demonstration if the folder is empty\n",
        "    with open(os.path.join(code_folder_path, 'sample_code.txt'), 'w') as f:\n",
        "        f.write(\"REPORT Z_SAMPLE_REPORT.\") # Add some dummy code\n",
        "\n",
        "code_input = \"\"\n",
        "for filename in os.listdir(code_folder_path):\n",
        "    if filename.endswith(\".txt\"):\n",
        "        with open(os.path.join(code_folder_path, filename), 'r') as f:\n",
        "            code_input += f.read() + \"\\n\\n\"\n",
        "\n",
        "# 2. Read the template from an uploaded PDF\n",
        "template_pdf_path = 'template.pdf'\n",
        "template_text = \"\"\n",
        "try:\n",
        "    with open(template_pdf_path, 'rb') as f:\n",
        "        reader = PyPDF2.PdfReader(f)\n",
        "        for page in reader.pages:\n",
        "            template_text += page.extract_text()\n",
        "except FileNotFoundError:\n",
        "    print(\"Please upload a 'template.pdf' file to use as the template.\")\n",
        "    # Create a dummy template.pdf for demonstration if it doesn't exist\n",
        "    pdf = FPDF()\n",
        "    pdf.add_page()\n",
        "    pdf.set_font(\"Arial\", size=12)\n",
        "    pdf.cell(200, 10, txt=\"This is a dummy template.\", ln=True, align='C')\n",
        "    pdf.output(template_pdf_path)\n",
        "    print(\"A dummy 'template.pdf' has been created for you.\")\n",
        "    with open(template_pdf_path, 'rb') as f:\n",
        "        reader = PyPDF2.PdfReader(f)\n",
        "        for page in reader.pages:\n",
        "            template_text += page.extract_text()"
      ]
    },
    {
      "cell_type": "markdown",
      "metadata": {
        "id": "sO8b9yqPg--i"
      },
      "source": [
        "# Agents and Tasks Definition"
      ]
    },
    {
      "cell_type": "code",
      "execution_count": 24,
      "metadata": {
        "id": "6YZ7k8PIl1SR"
      },
      "outputs": [],
      "source": [
        "# Agents\n",
        "from langchain_community.llms import HuggingFaceHub # Import necessary class if using Hugging Face models\n",
        "from langchain_google_genai import ChatGoogleGenerativeAI # Import the correct class for Gemini\n",
        "\n",
        "# Initialize the Gemini LLM\n",
        "os.environ['GOOGLE_API_KEY']=userdata.get('gemini_pro_1')\n",
        "gemini_llm = ChatGoogleGenerativeAI(model=\"gemini-2.5-flash\")\n",
        "\n",
        "\n",
        "abap_code_analyst = Agent(\n",
        "    role=\"Senior ABAP Code Analyst\",\n",
        "    goal=\"Dissect the provided ABAP  code to extract all technical details and the logic flow of the report.\"\n",
        "    \"Focus on identifying data sources, selection screens, core logic, and output structures.\"\n",
        "    \"You need to go through each and every section of report to the extent form where a good Functional and Technical specification document can be derived out of it\"\n",
        "    \"This is the ABAP report code : '{code_files}'\",\n",
        "    backstory=\"\"\"You are an expert ABAP developer with decades of experience. You have an exceptional eye for detail\n",
        "    and can instantly understand the flow and structure of any ABAP program. Your task is to analyze the\n",
        "    code and provide a structured, raw analysis for the documentation team.\"\"\",\n",
        "    allow_delegation=False,\n",
        "    verbose=True,\n",
        "    llm=gemini_llm,\n",
        ")\n",
        "\n",
        "functional_spec_drafter = Agent(\n",
        "    role=\"Business Systems Analyst\",\n",
        "    goal=\"Translate the technical analysis of an ABAP report into a clear and concise\"\n",
        "   \"functional specification document for business stakeholders.\"\n",
        "   \"Refer to this professional template for creating a business specification document. '{template_text}'\"\n",
        "   \"This is the ABAP code : {code_files} \",\n",
        "    backstory=\"\"\"You are a bridge between the technical team and the business. You excel at taking complex\n",
        "    business challenges and oppurtunities and reframing it in terms of business processes and objectives. Your functional\n",
        "    specifications are legendary for their clarity and business relevance, enabling stakeholders to\n",
        "    understand exactly what all action items are required as the part of Functional specification of the program.\"\"\",\n",
        "    allow_delegation=True,\n",
        "    verbose=True,\n",
        "    llm=gemini_llm,\n",
        ")\n",
        "\n",
        "technical_spec_writer = Agent(\n",
        "    role=\"Technical Documentation Specialist\",\n",
        "    goal=\"\"\"Create a comprehensive and detailed technical specification document based on the\n",
        "    ABAP code analysis.\"\"\"\n",
        "\n",
        "    \"Refer to this professional template for creating a business specification document. '{template_text}'\",\n",
        "    backstory=\"\"\"You are a meticulous technical writer who specializes in creating documentation for developers by analysing the code and functional specifications.\n",
        "    Your specifications are precise, well-structured, and follow industry best practices. Your work ensures\n",
        "    that any developer can pick up the report for maintenance or enhancement with complete clarity\n",
        "    on its internal workings.\"\"\",\n",
        "    allow_delegation=True,\n",
        "    verbose=True,\n",
        "    llm=gemini_llm,\n",
        ")\n",
        "\n",
        "manager_agent = Agent(\n",
        "    role='Manager Agent',\n",
        "    goal='Oversee the reverse engineering of Functional and Technical Specifications documentation from ABAP codes, facilitate collaboration amongst your team and iteratively incorporate the feedbacks of Functional and Technical experts while creating this document and ensure final output meets all requirements.'\n",
        "    'The FS and TS reports must contain all the important information extracted from the code for the business team to understand each and every ascpet of the code easily',\n",
        "    backstory=\"\"\"You are an experienced SAP S4 project manager with a deep understanding of software development life cycles and well versed with the good practises of SAP, Business needs and ABAP Development.\n",
        "    You have good knowledge on SAP Functional processes like MTD, RTR, OTC and PTP.\n",
        "    You excel at breaking down complex tasks, coordinating teams, incorporating feedback, and ensuring quality deliverables.\n",
        "    You are adept at communicating with both technical and business stakeholders.\"\"\",\n",
        "    verbose=True,\n",
        "    allow_delegation=True,\n",
        "    llm=gemini_llm,\n",
        ")\n",
        "\n",
        "output_reviewer = Agent(\n",
        "    role='Output Reviewer (Business Knowledge)',\n",
        "    goal=\"\"\"Review consolidated Functional and Technical Specifications and provide constructive feedback to the Manager Agent for refinement, focusing on business alignment and completeness.\n",
        "    You have good knowledge on SAP Functional processes like MTD, RTR, OTC and PTP.\n",
        "    The Functional and technical specifications document must be ehaustive enough to be able to create abap codes for those processes. So you need to perform all the checks according the best SAP coding practises and industry standards\"\"\",\n",
        "    backstory=\"\"\"You are a business stakeholder with a keen eye for detail and a deep understanding of the organizational goals and user needs.\n",
        "    You critically evaluate specifications, ensuring they meet intended business objectives and provide actionable feedback for improvement.\"\"\",\n",
        "    verbose=True,\n",
        "    allow_delegation=False,\n",
        "    llm=gemini_llm,\n",
        ")\n",
        "\n",
        "version_history_analyst = Agent(\n",
        "    role=\"ABAP Metadata and Versioning Specialist\",\n",
        "    goal=\"\"\"Accurately extract and structure the complete version history, author details, and related metadata\n",
        "          from the ABAP code's header comment block (the 'flower box').\"\"\",\n",
        "    backstory=\"\"\"You are an SAP quality assurance analyst with an obsession for documentation standards and traceability.\n",
        "               You specialize in reading the header comments of development objects to understand their history,\n",
        "               purpose, and the transport requests associated with them. Your work is critical for creating\n",
        "               auditable and professional documentation.\"\"\",\n",
        "    allow_delegation=False,\n",
        "    verbose=True,\n",
        "    llm=gemini_llm,\n",
        ")\n",
        "\n",
        "dependency_mapper = Agent(\n",
        "    role=\"SAP Object Cross-Reference Analyst\",\n",
        "    goal=\"\"\"Identify and catalogue all external dependencies referenced within the ABAP code, including database\n",
        "          tables, views, function modules, classes, BAdIs, and other repository objects.\"\"\",\n",
        "    backstory=\"\"\"You are an SAP solution architect with a deep understanding of the ABAP repository and its landscape.\n",
        "               You can instantly spot cross-object references, creating a clear map of how a program interacts\n",
        "               with the wider SAP ecosystem. Your analysis is crucial for impact analysis and understanding the\n",
        "               program's true footprint.\"\"\",\n",
        "    allow_delegation=False,\n",
        "    verbose=True,\n",
        "    llm=gemini_llm,\n",
        ")"
      ]
    },
    {
      "cell_type": "code",
      "execution_count": 25,
      "metadata": {
        "id": "JrYbajlsATJa"
      },
      "outputs": [],
      "source": [
        "# Tasks\n",
        "\n",
        "analyze_code_task = Task(\n",
        "    description=\"\"\"Analyze the following ABAP report code: '{code_files}'.\n",
        "                   Your analysis must cover these key areas:\n",
        "                   1.  **Data Sources:** Identify all database tables, views, or structures being used.\n",
        "                   2.  **Selection Screen:** Detail all SELECT-OPTIONS and PARAMETERS, including their technical IDs and associated data elements.\n",
        "                   3.  **Core Processing Logic:** Summarize the main logic blocks, including loops, conditionals (IF/CASE statements), and subroutine calls (PERFORM).\n",
        "                   4.  **Data Output:** Describe how the final data is presented (e.g., ALV grid, classical report WRITE statements) and list the fields being displayed.\"\"\",\n",
        "    expected_output=\"\"\"A structured text document containing a raw, point-by-point technical breakdown of the ABAP report.\n",
        "                       This output should be purely technical and serve as the foundational information for other agents.\"\"\",\n",
        "    agent=abap_code_analyst,\n",
        ")\n",
        "\n",
        "# Task for the Functional Spec Drafter\n",
        "functional_spec_task = Task(\n",
        "    description=\"\"\"Using the technical analysis provided by the ABAP Code Analyst, create a functional specification document.\n",
        "                   The document should explain the report's purpose and functionality from a business user's perspective.\n",
        "                   It must include:\n",
        "                   1.  **Report Purpose:** A high-level summary of what the report achieves.\n",
        "                   2.  **Selection Criteria:** Explain the input fields in simple business terms (e.g., \"User can filter by Sales Document Number\").\n",
        "                   3.  **Processing Logic Summary:** Describe what the report does with the data in plain language (e.g., \"The report calculates the total net value for the selected sales orders\").\n",
        "                   4.  **Output Description:** Describe the layout and columns of the final report from a user's point of view.\"\"\",\n",
        "    expected_output=\"\"\"A well-formatted functional specification document in Markdown. The language should be clear,\n",
        "                       non-technical, and focused on the business value and utility of the report.\"\"\",\n",
        "    agent=functional_spec_drafter,\n",
        ")\n",
        "\n",
        "# Task for the Technical Spec Writer\n",
        "technical_spec_task = Task(\n",
        "    description=\"\"\"Using the detailed technical analysis from the ABAP Code Analyst, create a formal technical specification document.\n",
        "                   This document must be structured for a developer audience and include:\n",
        "                   1.  **Program Details:** Program ID, Title, and a brief technical overview.\n",
        "                   2.  **Data Declarations:** List of key tables, internal tables, and complex variables.\n",
        "                   3.  **Selection Screen Objects:** A table listing each selection screen field with its technical name and properties.\n",
        "                   4.  **Detailed Logic Flow:** A step-by-step description of the program's execution logic, referencing specific subroutines and key logic blocks.\n",
        "                   5.  **Output Details:** A technical breakdown of the output display, including the field catalog for ALV grids or the format of WRITE statements.\"\"\",\n",
        "    expected_output=\"\"\"A comprehensive technical specification document in Markdown. It should be precise, detailed, and\n",
        "                       formatted professionally to serve as official technical documentation.\"\"\",\n",
        "    agent=technical_spec_writer,\n",
        ")\n",
        "\n",
        "\n",
        "# Manager Task for initial consolidation\n",
        "initial_consolidation_task = Task(\n",
        "    description=\"\"\"Consolidate the initial Functional and Technical Specifications into a single, cohesive document.\n",
        "    Ensure both specifications are present and well-formatted for review.\n",
        "    \"\"\",\n",
        "    expected_output=\"A single Markdown document containing the initial Functional Specification and Technical Specification, clearly separated.\",\n",
        "    agent=manager_agent,\n",
        "    context=[functional_spec_task, technical_spec_task],\n",
        "    llm=gemini_llm,\n",
        ")\n",
        "\n",
        "# Output Reviewer Task to provide feedback to the manager\n",
        "output_review_feedback_task = Task(\n",
        "    description=\"\"\"Review the provided consolidated Functional and Technical Specifications.\n",
        "    Focus on business alignment, clarity, completeness, and accuracy from a business perspective.\n",
        "    Provide constructive feedback to the Manager Agent, detailing any required changes or improvements.\n",
        "    The output should be a clear, concise, and structured list of actionable feedback points, not a final report.\n",
        "    \"\"\",\n",
        "    expected_output=\"A structured list of feedback points (e.g., bullet points, numbered list) for the Manager Agent to use for refining the specifications. Example: '- Section X needs more detail on Y. - Clarify business impact of Z. - Ensure consistency between FS and TS for ABC.'\",\n",
        "    agent=output_reviewer,\n",
        "    context=[initial_consolidation_task], # Reviewer reviews the initial consolidated output\n",
        "    llm=gemini_llm,\n",
        ")\n",
        "\n",
        "# Manager Task for final refinement based on feedback\n",
        "final_specification_task = Task(\n",
        "    description=\"\"\"Based on the initial Functional and Technical Specifications and the feedback provided by the Output Reviewer,\n",
        "    make necessary revisions to both specifications. Your goal is to produce the final, polished, and\n",
        "    approved Functional and Technical Specifications in a single consolidated document.\n",
        "    The output must contain the actual Functional Specification and Technical Specification,\n",
        "    incorporating all valid feedback. Ensure clear separation between the FS and TS sections in the final output.\n",
        "    \"\"\",\n",
        "    expected_output=\"A single, comprehensive Markdown document containing the final, refined Functional Specification and Technical Specification, clearly separated (e.g., using distinct headings like '# Functional Specification' and '# Technical Specification') and incorporating all reviewer feedback.\",\n",
        "    agent=manager_agent,\n",
        "    context=[initial_consolidation_task, output_review_feedback_task], # Manager uses both initial specs and feedback\n",
        "    llm=gemini_llm,\n",
        "    output_file='final_specifications.md' # Final output will be saved here\n",
        ")\n",
        "\n",
        "extract_version_history_task = Task(\n",
        "    description=\"\"\"Analyze the ABAP code in '{code_files}' to locate the header comment block (flower box).\n",
        "                   1.  Parse the 'Revision Log' or 'Version History' section.\n",
        "                   2.  Extract details for each entry: Version/Init. #, Author, Date, Description, and CTS#.\n",
        "                   3.  Also, extract other key metadata like FS Document ID, TS Document ID, and Object Description.\"\"\",\n",
        "    expected_output=\"\"\"A structured Markdown section containing two parts:\n",
        "                       1. A list of key metadata (FS ID, TS ID, Description).\n",
        "                       2. A table detailing the complete version history with columns for Version, Author, Date,\n",
        "                          Description, and CTS#. This output must be ready for direct insertion into a specification document.\"\"\",\n",
        "    agent=version_history_analyst,\n",
        ")\n",
        "\n",
        "map_dependencies_task = Task(\n",
        "    description=\"\"\"Conduct a thorough scan of the ABAP code '{code_files}' to identify all external dependencies.\n",
        "                   Your analysis must categorize these dependencies into the following groups:\n",
        "                   1.  **Database Objects:** Tables and Views (from SELECT, TABLES, etc.).\n",
        "                   2.  **Function Modules:** Called using 'CALL FUNCTION'.\n",
        "                   3.  **Classes/Methods:** Instantiated or called using 'CREATE OBJECT' or 'CALL METHOD'.\n",
        "                   4.  **Includes & External Subroutines:** References to other ABAP programs.\n",
        "                   5.  **Data Dictionary (DDIC) Types:** Structures or data elements used in TYPE declarations.\"\"\",\n",
        "    expected_output=\"\"\"A clearly structured list of all identified foreign dependencies, grouped by category\n",
        "                       (e.g., ### Database Tables, ### Function Modules). This list will serve as a\n",
        "                       cross-reference appendix in the technical specification.\"\"\",\n",
        "    agent=dependency_mapper,\n",
        ")"
      ]
    },
    {
      "cell_type": "code",
      "execution_count": 26,
      "metadata": {
        "id": "iLUHokDMAfDr"
      },
      "outputs": [],
      "source": [
        "# Call the crew\n",
        "\n",
        "abap_crew = Crew(\n",
        "    agents=[\n",
        "        abap_code_analyst,\n",
        "        functional_spec_drafter,\n",
        "        technical_spec_writer,\n",
        "        version_history_analyst,\n",
        "        dependency_mapper,\n",
        "        manager_agent,\n",
        "        output_reviewer\n",
        "    ],\n",
        "    tasks=[\n",
        "        analyze_code_task,\n",
        "        functional_spec_task,\n",
        "        technical_spec_task,\n",
        "        extract_version_history_task,\n",
        "        map_dependencies_task,\n",
        "        initial_consolidation_task,\n",
        "        output_review_feedback_task,\n",
        "        final_specification_task # This task produces the final output after review\n",
        "    ],\n",
        "    process=Process.sequential,\n",
        ")"
      ]
    },
    {
      "cell_type": "code",
      "execution_count": null,
      "metadata": {
        "collapsed": true,
        "id": "r25xReVfDs4N"
      },
      "outputs": [],
      "source": [
        "# --- Execution ---\n",
        "result = crew.kickoff(\n",
        "      inputs={\n",
        "            'code_files': code_input,\n",
        "            'template_text': template_text\n",
        "        }\n",
        "    )"
      ]
    },
    {
      "cell_type": "code",
      "execution_count": null,
      "metadata": {
        "id": "IsglXpvyB5_Z"
      },
      "outputs": [],
      "source": [
        "from IPython.display import Markdown\n",
        "Markdown(result)"
      ]
    },
    {
      "cell_type": "markdown",
      "metadata": {
        "id": "ZQTCbqY6hCj0"
      },
      "source": [
        "# Markdown to PDF conversion"
      ]
    },
    {
      "cell_type": "code",
      "execution_count": null,
      "metadata": {
        "id": "vNDsYzhRZRSQ"
      },
      "outputs": [],
      "source": [
        "import os\n",
        "from markdown_pdf import MarkdownPdf, Section\n",
        "\n",
        "def convert_markdown_to_pdf(markdown_file, output_pdf):\n",
        "    \"\"\"\n",
        "    Converts a Markdown file to a PDF file with custom styling for tables.\n",
        "\n",
        "    Args:\n",
        "        markdown_file (str): The path to the input Markdown file.\n",
        "        output_pdf (str): The path to the output PDF file.\n",
        "    \"\"\"\n",
        "    if not os.path.exists(markdown_file):\n",
        "        print(f\"Error: The file '{markdown_file}' was not found.\")\n",
        "        return\n",
        "\n",
        "    try:\n",
        "        # Read the Markdown content from the file\n",
        "        with open(markdown_file, 'r', encoding='utf-8') as f:\n",
        "            markdown_content = f.read()\n",
        "\n",
        "        # Define custom CSS for table styling\n",
        "        # This CSS will add borders, padding, and center the table headers.\n",
        "        css = \"\"\"\n",
        "        table {\n",
        "            border-collapse: collapse;\n",
        "            width: 100%;\n",
        "            margin-bottom: 1rem;\n",
        "        }\n",
        "        th, td {\n",
        "            border: 1px solid #dddddd;\n",
        "            text-align: left;\n",
        "            padding: 8px;\n",
        "        }\n",
        "        th {\n",
        "            background-color: #f2f2f2;\n",
        "            text-align: center;\n",
        "        }\n",
        "        \"\"\"\n",
        "\n",
        "        # Create a PDF object\n",
        "        pdf = MarkdownPdf()\n",
        "\n",
        "        # Add a section with the Markdown content and the custom CSS\n",
        "        pdf.add_section(Section(markdown_content, user_css=css))\n",
        "\n",
        "        # Save the PDF\n",
        "        pdf.save(output_pdf)\n",
        "        print(f\"Successfully converted '{markdown_file}' to '{output_pdf}'\")\n",
        "\n",
        "    except Exception as e:\n",
        "        print(f\"An error occurred during the conversion: {e}\")\n",
        "\n",
        "if __name__ == '__main__':\n",
        "    # --- Instructions for Use ---\n",
        "\n",
        "    # 1. Create a Markdown file named 'sample.md' in the same directory\n",
        "    #    as this script. You can add your own content, including tables.\n",
        "    #    Here is some sample content you can use:\n",
        "\n",
        "    # # Sample Document\n",
        "    #\n",
        "    # This is a sample document to demonstrate Markdown to PDF conversion.\n",
        "    #\n",
        "    # ## A Sample Table\n",
        "    #\n",
        "    # | Product    | Price   | In Stock |\n",
        "    # |------------|---------|----------|\n",
        "    # | Apples     | $1.25   | Yes      |\n",
        "    # | Oranges    | $1.50   | Yes      |\n",
        "    # | Grapes     | $3.00   | No       |\n",
        "    #\n",
        "    # You can add more content here.\n",
        "\n",
        "    # 2. Make sure you have the necessary library installed.\n",
        "    #    Open your terminal or command prompt and run:\n",
        "    #    pip install markdown-pdf\n",
        "\n",
        "    # 3. Run this Python script. It will generate a file named 'output.pdf'.\n",
        "\n",
        "    markdown_file_path = 'final_specifications.md'\n",
        "    output_pdf_path = 'output.pdf'\n",
        "    convert_markdown_to_pdf(markdown_file_path, output_pdf_path)"
      ]
    }
  ],
  "metadata": {
    "colab": {
      "provenance": [],
      "include_colab_link": true
    },
    "kernelspec": {
      "display_name": "Python 3",
      "name": "python3"
    },
    "language_info": {
      "name": "python"
    }
  },
  "nbformat": 4,
  "nbformat_minor": 0
}