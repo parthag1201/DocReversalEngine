{
  "nbformat": 4,
  "nbformat_minor": 0,
  "metadata": {
    "colab": {
      "provenance": [],
      "include_colab_link": true
    },
    "kernelspec": {
      "name": "python3",
      "display_name": "Python 3"
    },
    "language_info": {
      "name": "python"
    }
  },
  "cells": [
    {
      "cell_type": "markdown",
      "metadata": {
        "id": "view-in-github",
        "colab_type": "text"
      },
      "source": [
        "<a href=\"https://colab.research.google.com/github/parthag1201/DocReversalEngine/blob/main/FS_TS_Crew_V2.ipynb\" target=\"_parent\"><img src=\"https://colab.research.google.com/assets/colab-badge.svg\" alt=\"Open In Colab\"/></a>"
      ]
    },
    {
      "cell_type": "code",
      "execution_count": null,
      "metadata": {
        "collapsed": true,
        "id": "cF6dM2vmiVyQ"
      },
      "outputs": [],
      "source": [
        "# Install packages for crew and langchain\n",
        "!pip install crewai==0.28.8 crewai_tools==0.1.6 langchain_community==0.0.29 langchain_google_genai fpdf2 markdown2"
      ]
    },
    {
      "cell_type": "code",
      "source": [
        "import google.generativeai as genai\n",
        "from langchain_google_genai import ChatGoogleGenerativeAI, GoogleGenerativeAIEmbeddings"
      ],
      "metadata": {
        "id": "UvBf6m_DA384"
      },
      "execution_count": 2,
      "outputs": []
    },
    {
      "cell_type": "code",
      "source": [
        "# pdf read and write\n",
        "from fpdf import FPDF\n",
        "from markdown2 import Markdown"
      ],
      "metadata": {
        "id": "yPgbqm5dArr9"
      },
      "execution_count": 3,
      "outputs": []
    },
    {
      "cell_type": "code",
      "source": [
        "# Warning Control\n",
        "import warnings\n",
        "warnings.filterwarnings('ignore')"
      ],
      "metadata": {
        "id": "YcAyfeq2itwz"
      },
      "execution_count": 4,
      "outputs": []
    },
    {
      "cell_type": "code",
      "source": [
        "# Import crewAI library\n",
        "from crewai import Agent, Task, Crew, Process"
      ],
      "metadata": {
        "id": "yplJOE5njU4c"
      },
      "execution_count": 5,
      "outputs": []
    },
    {
      "cell_type": "code",
      "source": [
        "import os\n",
        "from google.colab import userdata"
      ],
      "metadata": {
        "id": "8lgQw0PWjgPP"
      },
      "execution_count": 6,
      "outputs": []
    },
    {
      "cell_type": "code",
      "source": [
        "!pip install PyPDF2"
      ],
      "metadata": {
        "id": "CAVPvlfRDXPH"
      },
      "execution_count": null,
      "outputs": []
    },
    {
      "cell_type": "code",
      "source": [
        "# --- File and Folder Handling ---\n",
        "\n",
        "# 1. Read code from the 'code_files' folder\n",
        "import PyPDF2 # Import PyPDF2 here\n",
        "code_folder_path = 'code_files'\n",
        "if not os.path.exists(code_folder_path):\n",
        "    os.makedirs(code_folder_path)\n",
        "    # Create a dummy file for demonstration if the folder is empty\n",
        "    with open(os.path.join(code_folder_path, 'sample_code.txt'), 'w') as f:\n",
        "        f.write(\"REPORT Z_SAMPLE_REPORT.\") # Add some dummy code\n",
        "\n",
        "code_input = \"\"\n",
        "for filename in os.listdir(code_folder_path):\n",
        "    if filename.endswith(\".txt\"):\n",
        "        with open(os.path.join(code_folder_path, filename), 'r') as f:\n",
        "            code_input += f.read() + \"\\n\\n\"\n",
        "\n",
        "# 2. Read the template from an uploaded PDF\n",
        "template_pdf_path = 'template.pdf'\n",
        "template_text = \"\"\n",
        "try:\n",
        "    with open(template_pdf_path, 'rb') as f:\n",
        "        reader = PyPDF2.PdfReader(f)\n",
        "        for page in reader.pages:\n",
        "            template_text += page.extract_text()\n",
        "except FileNotFoundError:\n",
        "    print(\"Please upload a 'template.pdf' file to use as the template.\")\n",
        "    # Create a dummy template.pdf for demonstration if it doesn't exist\n",
        "    pdf = FPDF()\n",
        "    pdf.add_page()\n",
        "    pdf.set_font(\"Arial\", size=12)\n",
        "    pdf.cell(200, 10, txt=\"This is a dummy template.\", ln=True, align='C')\n",
        "    pdf.output(template_pdf_path)\n",
        "    print(\"A dummy 'template.pdf' has been created for you.\")\n",
        "    with open(template_pdf_path, 'rb') as f:\n",
        "        reader = PyPDF2.PdfReader(f)\n",
        "        for page in reader.pages:\n",
        "            template_text += page.extract_text()"
      ],
      "metadata": {
        "id": "fTODtRSCBiT7"
      },
      "execution_count": 11,
      "outputs": []
    },
    {
      "cell_type": "code",
      "source": [
        "# Agents\n",
        "from langchain_community.llms import HuggingFaceHub # Import necessary class if using Hugging Face models\n",
        "from langchain_google_genai import ChatGoogleGenerativeAI # Import the correct class for Gemini\n",
        "\n",
        "# Initialize the Gemini LLM\n",
        "os.environ['GOOGLE_API_KEY']=userdata.get('gemini_pro')\n",
        "gemini_llm = ChatGoogleGenerativeAI(model=\"gemini-2.5-pro\")\n",
        "\n",
        "\n",
        "abap_code_analyst = Agent(\n",
        "    role=\"Senior ABAP Code Analyst\",\n",
        "    goal=\"Dissect the provided ABAP report code to extract all technical details and the logic flow of the report.\"\n",
        "    \"Focus on identifying data sources, selection screens, core logic, and output structures.\"\n",
        "    \"You need to go through each and every section of report to the extent form where a good Functional and Technical specification can be derived out of it\"\n",
        "    \"This is the ABAP report code : '{code_files}'\",\n",
        "    backstory=\"\"\"You are an expert ABAP developer with decades of experience. You have an exceptional eye for detail\n",
        "    and can instantly understand the flow and structure of any ABAP program. Your task is to analyze the\n",
        "    code and provide a structured, raw analysis for the documentation team.\"\"\",\n",
        "    allow_delegation=False,\n",
        "    verbose=True,\n",
        "    llm=gemini_llm,\n",
        ")\n",
        "\n",
        "functional_spec_drafter = Agent(\n",
        "    role=\"Business Systems Analyst\",\n",
        "    goal=\"Translate the technical analysis of an ABAP report into a clear and concise\"\n",
        "   \"functional specification document for business stakeholders.\"\n",
        "   \"Refer to this professional template for creating a business functional specification document. '{template_text}'\",\n",
        "    backstory=\"\"\"You are a bridge between the technical team and the business. You excel at taking complex\n",
        "    technical jargon and reframing it in terms of business processes and objectives. Your functional\n",
        "    specifications are legendary for their clarity and business relevance, enabling stakeholders to\n",
        "    understand exactly what a report does.\"\"\",\n",
        "    allow_delegation=True,\n",
        "    verbose=True,\n",
        "    llm=gemini_llm,\n",
        ")\n",
        "\n",
        "technical_spec_writer = Agent(\n",
        "    role=\"Technical Documentation Specialist\",\n",
        "    goal=\"\"\"Create a comprehensive and detailed technical specification document based on the\n",
        "    ABAP code analysis.\"\"\"\n",
        "    \"Refer to this professional template for creating a business technical specification document. '{template_text}'\",\n",
        "    backstory=\"\"\"You are a meticulous technical writer who specializes in creating documentation for developers.\n",
        "    Your specifications are precise, well-structured, and follow industry best practices. Your work ensures\n",
        "    that any developer can pick up the report for maintenance or enhancement with complete clarity\n",
        "    on its internal workings.\"\"\",\n",
        "    allow_delegation=True,\n",
        "    verbose=True,\n",
        "    llm=gemini_llm,\n",
        ")\n",
        "\n",
        "manager_agent = Agent(\n",
        "    role='Manager Agent',\n",
        "    goal='Oversee the generation and refinement of Functional and Technical Specifications, facilitate collaboration, incorporate reviewer feedback, and ensure final output meets all requirements.'\n",
        "    'The FS and TS reports must contain all the important information extracted from the report fror the business team to understand each and every ascpet of the report easily',\n",
        "    backstory=\"\"\"You are an experienced SAP S4 project manager with a deep understanding of software development life cycles and well versed with the good practises of SAP, Busness needs and ABAP Development.\n",
        "    You excel at breaking down complex tasks, coordinating teams, incorporating feedback, and ensuring quality deliverables.\n",
        "    You are adept at communicating with both technical and business stakeholders.\"\"\",\n",
        "    verbose=True,\n",
        "    allow_delegation=True,\n",
        "    llm=gemini_llm,\n",
        ")\n",
        "\n",
        "output_reviewer = Agent(\n",
        "    role='Output Reviewer (Business Knowledge)',\n",
        "    goal='Review consolidated Functional and Technical Specifications and provide constructive feedback to the Manager Agent for refinement, focusing on business alignment and completeness.',\n",
        "    backstory=\"\"\"You are a business stakeholder with a keen eye for detail and a deep understanding of the organizational goals and user needs.\n",
        "    You critically evaluate specifications, ensuring they meet intended business objectives and provide actionable feedback for improvement.\"\"\",\n",
        "    verbose=True,\n",
        "    allow_delegation=False,\n",
        "    llm=gemini_llm,\n",
        ")"
      ],
      "metadata": {
        "id": "6YZ7k8PIl1SR"
      },
      "execution_count": 21,
      "outputs": []
    },
    {
      "cell_type": "code",
      "source": [
        "# Tasks\n",
        "\n",
        "analyze_code_task = Task(\n",
        "    description=\"\"\"Analyze the following ABAP report code: '{code_files}'.\n",
        "                   Your analysis must cover these key areas:\n",
        "                   1.  **Data Sources:** Identify all database tables, views, or structures being used.\n",
        "                   2.  **Selection Screen:** Detail all SELECT-OPTIONS and PARAMETERS, including their technical IDs and associated data elements.\n",
        "                   3.  **Core Processing Logic:** Summarize the main logic blocks, including loops, conditionals (IF/CASE statements), and subroutine calls (PERFORM).\n",
        "                   4.  **Data Output:** Describe how the final data is presented (e.g., ALV grid, classical report WRITE statements) and list the fields being displayed.\"\"\",\n",
        "    expected_output=\"\"\"A structured text document containing a raw, point-by-point technical breakdown of the ABAP report.\n",
        "                       This output should be purely technical and serve as the foundational information for other agents.\"\"\",\n",
        "    agent=abap_code_analyst,\n",
        ")\n",
        "\n",
        "# Task for the Functional Spec Drafter\n",
        "functional_spec_task = Task(\n",
        "    description=\"\"\"Using the technical analysis provided by the ABAP Code Analyst, create a functional specification document.\n",
        "                   The document should explain the report's purpose and functionality from a business user's perspective.\n",
        "                   It must include:\n",
        "                   1.  **Report Purpose:** A high-level summary of what the report achieves.\n",
        "                   2.  **Selection Criteria:** Explain the input fields in simple business terms (e.g., \"User can filter by Sales Document Number\").\n",
        "                   3.  **Processing Logic Summary:** Describe what the report does with the data in plain language (e.g., \"The report calculates the total net value for the selected sales orders\").\n",
        "                   4.  **Output Description:** Describe the layout and columns of the final report from a user's point of view.\"\"\",\n",
        "    expected_output=\"\"\"A well-formatted functional specification document in Markdown. The language should be clear,\n",
        "                       non-technical, and focused on the business value and utility of the report.\"\"\",\n",
        "    agent=functional_spec_drafter,\n",
        ")\n",
        "\n",
        "# Task for the Technical Spec Writer\n",
        "technical_spec_task = Task(\n",
        "    description=\"\"\"Using the detailed technical analysis from the ABAP Code Analyst, create a formal technical specification document.\n",
        "                   This document must be structured for a developer audience and include:\n",
        "                   1.  **Program Details:** Program ID, Title, and a brief technical overview.\n",
        "                   2.  **Data Declarations:** List of key tables, internal tables, and complex variables.\n",
        "                   3.  **Selection Screen Objects:** A table listing each selection screen field with its technical name and properties.\n",
        "                   4.  **Detailed Logic Flow:** A step-by-step description of the program's execution logic, referencing specific subroutines and key logic blocks.\n",
        "                   5.  **Output Details:** A technical breakdown of the output display, including the field catalog for ALV grids or the format of WRITE statements.\"\"\",\n",
        "    expected_output=\"\"\"A comprehensive technical specification document in Markdown. It should be precise, detailed, and\n",
        "                       formatted professionally to serve as official technical documentation.\"\"\",\n",
        "    agent=technical_spec_writer,\n",
        ")\n",
        "\n",
        "\n",
        "# Manager Task for initial consolidation\n",
        "initial_consolidation_task = Task(\n",
        "    description=\"\"\"Consolidate the initial Functional and Technical Specifications into a single, cohesive document.\n",
        "    Ensure both specifications are present and well-formatted for review.\n",
        "    \"\"\",\n",
        "    expected_output=\"A single Markdown document containing the initial Functional Specification and Technical Specification, clearly separated.\",\n",
        "    agent=manager_agent,\n",
        "    context=[functional_spec_task, technical_spec_task],\n",
        "    llm=gemini_llm,\n",
        ")\n",
        "\n",
        "# Output Reviewer Task to provide feedback to the manager\n",
        "output_review_feedback_task = Task(\n",
        "    description=\"\"\"Review the provided consolidated Functional and Technical Specifications.\n",
        "    Focus on business alignment, clarity, completeness, and accuracy from a business perspective.\n",
        "    Provide constructive feedback to the Manager Agent, detailing any required changes or improvements.\n",
        "    The output should be a clear, concise, and structured list of actionable feedback points, not a final report.\n",
        "    \"\"\",\n",
        "    expected_output=\"A structured list of feedback points (e.g., bullet points, numbered list) for the Manager Agent to use for refining the specifications. Example: '- Section X needs more detail on Y. - Clarify business impact of Z. - Ensure consistency between FS and TS for ABC.'\",\n",
        "    agent=output_reviewer,\n",
        "    context=[initial_consolidation_task], # Reviewer reviews the initial consolidated output\n",
        "    llm=gemini_llm,\n",
        ")\n",
        "\n",
        "# Manager Task for final refinement based on feedback\n",
        "final_specification_task = Task(\n",
        "    description=\"\"\"Based on the initial Functional and Technical Specifications and the feedback provided by the Output Reviewer,\n",
        "    make necessary revisions to both specifications. Your goal is to produce the final, polished, and\n",
        "    approved Functional and Technical Specifications in a single consolidated document.\n",
        "    The output must contain the actual Functional Specification and Technical Specification,\n",
        "    incorporating all valid feedback. Ensure clear separation between the FS and TS sections in the final output.\n",
        "    \"\"\",\n",
        "    expected_output=\"A single, comprehensive Markdown document containing the final, refined Functional Specification and Technical Specification, clearly separated (e.g., using distinct headings like '# Functional Specification' and '# Technical Specification') and incorporating all reviewer feedback.\",\n",
        "    agent=manager_agent,\n",
        "    context=[initial_consolidation_task, output_review_feedback_task], # Manager uses both initial specs and feedback\n",
        "    llm=gemini_llm,\n",
        "    output_file='final_specifications.md' # Final output will be saved here\n",
        ")"
      ],
      "metadata": {
        "id": "JrYbajlsATJa"
      },
      "execution_count": 22,
      "outputs": []
    },
    {
      "cell_type": "code",
      "source": [
        "# Call the crew\n",
        "\n",
        "abap_doc_crew = Crew(\n",
        "    agents=[\n",
        "        abap_code_analyst,\n",
        "        functional_spec_drafter,\n",
        "        technical_spec_writer,\n",
        "        manager_agent,\n",
        "        output_reviewer\n",
        "    ],\n",
        "    tasks=[\n",
        "        analyze_code_task,\n",
        "        functional_spec_task,\n",
        "        technical_spec_task,\n",
        "        initial_consolidation_task,\n",
        "        output_review_feedback_task,\n",
        "        final_specification_task # This task produces the final output after review\n",
        "    ],\n",
        "    process=Process.sequential,\n",
        "    verbose=2\n",
        ")"
      ],
      "metadata": {
        "id": "iLUHokDMAfDr",
        "collapsed": true,
        "colab": {
          "base_uri": "https://localhost:8080/"
        },
        "outputId": "8ee46fa2-8007-4de2-f782-a092612940ca"
      },
      "execution_count": 23,
      "outputs": [
        {
          "output_type": "stream",
          "name": "stderr",
          "text": [
            "WARNING:opentelemetry.trace:Overriding of current TracerProvider is not allowed\n"
          ]
        }
      ]
    },
    {
      "cell_type": "code",
      "source": [
        "# --- Execution ---\n",
        "if code_input and template_text:\n",
        "    result = abap_doc_crew.kickoff(\n",
        "        inputs={\n",
        "            'code_files': code_input,\n",
        "            'template_text': template_text\n",
        "        }\n",
        "    )"
      ],
      "metadata": {
        "collapsed": true,
        "id": "r25xReVfDs4N"
      },
      "execution_count": null,
      "outputs": []
    },
    {
      "cell_type": "code",
      "source": [
        "from IPython.display import Markdown\n",
        "Markdown(result)"
      ],
      "metadata": {
        "collapsed": true,
        "id": "IsglXpvyB5_Z",
        "colab": {
          "base_uri": "https://localhost:8080/",
          "height": 1000
        },
        "outputId": "914f0cc6-5ede-43e7-8dea-77efef319a84"
      },
      "execution_count": 34,
      "outputs": [
        {
          "output_type": "execute_result",
          "data": {
            "text/plain": [
              "<IPython.core.display.Markdown object>"
            ],
            "text/markdown": "### **Interface Functional & Technical Specification**\n\n**SR162489 - Automatic Calculation of QM Inspection Lot End Date**\n\n---\n\n<br>\n\n**SAP Functional & Technical Specification Document - Interfaces**\n\n| | |\n| :--- | :--- |\n| **Object ID** | SR162489 |\n| **Object Type** | Enhancement / Business Logic |\n| **Object Title** | Automatic Calculation of QM Inspection Lot End Date |\n| **Process Area** | **X** MTD (Make to Deliver) |\n| **Sub Process Area** | Quality Management (QM) |\n| **Complexity** | **X** Medium |\n| **Interface Type** | **X** Inbound (Internal system process) |\n| **Source -> Target** | SAP S/4HANA -> SAP S/4HANA |\n| **Rollout information** | < R1 > |\n\n<br>\n<br>\n\n### **Table of Contents**\n\n1.  Document Control Information\n2.  Executive Summary\n3.  Business Process Considerations\n4.  Functional Design Considerations\n5.  Nonfunctional requirements\n6.  Technical Interface Specifications\n7.  Unit Test Scenarios\n8.  Attachments and Documentation\n\n<br>\n<br>\n\n### **1. Document Control Information**\n*(This section would be filled in during the project lifecycle.)*\n\n| Date Opened | Description | Assigned to | Due Date | Status |\n| :--- | :--- | :--- | :--- | :--- |\n| *[Date]* | **[Open Item #1]** Business to confirm if any specific Return scenarios (e.g., by material type or return reason) require a fixed inspection duration instead of the default 'indefinite' date. | Business Lead - Quality Mgmt | *[Date + 2 weeks]* | Open |\n\n---\n\n### **2. Executive Summary**\n\n**2.1 Overview**\nThis document describes an automated enhancement to the standard Quality Management (QM) process. This enhancement automatically calculates and sets a more appropriate \"Inspection End Date\" for specific Quality Inspection Lots at the time of their creation. The calculation logic depends on the business context, such as processing a customer return, receiving a material with a mandatory \"cool-down\" period, or handling an internal stock transfer.\n\n**2.2 Business Driver**\nThe standard SAP system often assigns a generic inspection end date that does not meet specific business requirements. This creates several challenges:\n*   **Process Inefficiency:** Quality Planners must manually review and update inspection end dates for numerous lots, which is time-consuming and prone to error.\n*   **Compliance Risk:** Materials requiring a \"cool-down\" period (a duration where the material must settle before use) could be released for use prematurely if the inspection lot expires based on a standard, shorter timeframe.\n*   **Data Inaccuracy:** Inspection lots for returns may expire unnecessarily, causing confusion and requiring manual intervention to keep them active for analysis.\n\nThis enhancement addresses these issues by automating the date calculation, ensuring process compliance, improving data accuracy, and reducing manual workload.\n\n**2.3 As-Is process**\nCurrently, when an inspection lot is created, the system assigns a standard end date based on basic configuration. For special cases like returns or materials with cool-down requirements, a Quality Planner must manually identify these lots and change the inspection end date using transaction QA02 (Change Inspection Lot).\n\n**2.4 To-be process**\nWith this enhancement, the system will automatically identify predefined business scenarios during goods movement transactions (e.g., MIGO). Based on the scenario, it will apply a specific business rule to calculate and set the correct inspection end date on the inspection lot as it is being created. This process is seamless and requires no manual intervention.\n\n**2.5 Business Risks/Issues**\n*Failure of the automated logic poses significant business risks that could impact product quality, regulatory compliance, and inventory management. The specific risks associated with each business rule are:*\n\n*   **Rule 1 (Returns Processing):** If the logic fails to set an 'indefinite' inspection end date for a return, the system may default to a standard, shorter duration. This could lead to the premature, automated write-off or scrapping of perfectly good returned inventory, resulting in direct financial loss and inaccurate stock levels.\n*   **Rule 2 ('Cool-Down' Period):** A failure to correctly apply the mandatory cool-down period for specific materials is the most critical risk. It could lead to the premature quality release of materials that have not yet stabilized (e.g., curing time for chemicals, temperature acclimation for sensitive goods). This introduces a severe risk of distributing defective or unsafe products to customers, potentially causing harm, triggering product recalls, damaging brand reputation, and incurring regulatory penalties.\n*   **Rule 3 (History-Based Dating):** If the system cannot find a valid historical lot to copy the end date from, the new lot may receive an incorrect default date. An unnecessarily long date ties up valuable inventory, negatively impacting working capital. An unnecessarily short date may not provide sufficient time for proper testing, leading to rushed quality decisions or the unnecessary expiry of stock in transit.\n\n**2.6 Assumptions**\n*   All required master data (e.g., Material Master QM view) will be correctly maintained prior to go-live.\n*   The logic is being implemented in S/4HANA and will trigger upon the creation of a Quality Management inspection lot.\n*   **Data Governance:** The custom table `ZGMTD_CLD_PGI`, which stores the material- and plant-specific cool-down periods, is a critical configuration table.\n    *   **Business Data Owner:** The **Master Data Governance Team** is the official owner of this table's content.\n    *   **Governance Process:** All requests for adding, changing, or deleting entries in this table must be initiated by the **Plant Quality Manager** or a delegate. The request must be formally submitted via a service management ticket, which will then be routed to the Master Data Governance Team for implementation after verification. This ensures proper controls and audit trails for changes.\n\n**2.7 Impacted Systems**\n*   **X** S/4 HANA\n\n<br>\n\n### **3. Business Process Considerations**\n\n**3.1 Process Description and Flow**\nThis enhancement is not a user-executed report but a background process that triggers automatically during a goods movement that creates a QM Inspection Lot.\n\nThe process flow is as follows:\n1.  A user performs a goods movement transaction (e.g., Goods Receipt, Stock Transfer, Return).\n2.  The standard SAP process begins to create an inspection lot.\n3.  Before the lot is saved, this enhancement is triggered via a BAdI.\n4.  The enhancement checks if the material, movement type, and/or inspection type match a predefined business rule.\n5.  If a rule is matched, the enhancement calculates a new \"Inspection End Date\" and updates the inspection lot data.\n6.  The standard SAP process continues and saves the inspection lot with the new, correct end date.\n\n**3.2 Data Source**\n*   **Primary Source:** Real-time inspection lot data being generated by a standard SAP transaction (e.g., MIGO).\n*   **Supporting Data:**\n    *   Material Master Data (QM Inspection Type view).\n    *   Plant Data (Factory Calendar).\n    *   Custom Configuration Table `ZGMTD_CLD_PGI` (stores cool-down times per Material and Plant).\n    *   Historical Inspection Lot Data (Table QALS).\n\n**3.3 Trigger**\nThe process is triggered automatically by the system during the creation of a Quality Inspection Lot under specific conditions. It is not manually started by a user.\n\n**3.4 Processing Options**\n*   **Processing Mode:** **X** Real Time\n*   **Processing Type:** **X** Asynchronous (from the user's perspective, it's part of the single transaction they are performing).\n*   **Frequency:** **X** On Demand (triggers whenever a relevant goods movement occurs).\n\n**3.5 Dependencies**\nThe successful execution of this enhancement depends on the correct configuration of Material Master data and the custom \"Cool-Down\" table `ZGMTD_CLD_PGI`.\n\n<br>\n\n### **4. Functional Design Considerations**\n\n**4.1 Interface Details**\n\n**4.1.2 Mapping and Transformation**\n*The core logic is executed via a custom enhancement (BAdI) triggered during the creation of an inspection lot (transaction QA01 or automatic creation via goods movement). The system will determine the inspection lot end date based on the following prioritized business rules:*\n\n**Rule 1: Returns Inspection (Highest Priority)**\n*   **Logic:** If the inspection lot is created for a return (Movement Type '655') or is of Inspection Type '05'.\n*   **Action:** The system sets the **Inspection End Date** to the last possible date of the latest year defined in the plant's factory calendar (e.g., 12/31/2999).\n*   **Business Rationale:** Returns require detailed manual investigation to determine their disposition (return to stock, refurbish, scrap). This process has no fixed timeline, so an indefinite date prevents the lot from appearing on exception reports for being overdue.\n*   **Validation Note:** This logic applies to all return movement types by default. If specific returns require a fixed inspection duration, this will be handled as a future enhancement.\n\n**Rule 2: Material 'Cool-Down' Period (Second Priority)**\n*   **Logic:** If the inspection lot is for a goods receipt (Movement Type '101') of a material requiring a post-receipt stabilization or \"cool-down\" period (Inspection Type '08' or 'Z01').\n    *   The system will look up the **Material Number** and **Plant** in the custom table `ZGMTD_CLD_PGI`.\n    *   If a unique, valid entry is found, the 'Inspection End Date' will be calculated as: `Inspection Lot Creation Date + Cool-Down Days`.\n    *   **Data Integrity Check:** If the lookup returns **multiple** active entries for the same Material/Plant combination, this indicates a master data error. The automatic calculation will be skipped, and the lot will be flagged in the daily **Exception Monitoring Report** for manual review and correction by the Master Data Governance Team.\n*   **Business Rationale:** Certain materials require a fixed period of time after receipt before they can be safely tested or used. This rule automates the enforcement of that mandatory waiting period, ensuring product quality and safety. The lookup keys are Material and Plant to ensure the rule applies to the material regardless of the vendor or inbound delivery.\n\n**Rule 3: History-Based Date for Stock Transfers (Third Priority)**\n*   **Logic:** If the inspection lot is created for an internal stock transfer (e.g., Movement Types '322', '349', or 'Z49' with Inspection Types '08' or 'Z01').\n    *   The system will search for a pre-existing lot for the same **Material** and **Batch**. The search is prioritized:\n        1.  First, it searches for a previous inspection lot with Inspection Type **'04' (Goods Receipt from Production)**.\n        2.  If no '04' lot is found, it then searches for a previous lot with Inspection Type **'08' or 'Z01'**.\n    *   The 'Inspection End Date' from the most recently created lot found through this search will be compared to today's date. The new Inspection End Date will be set to whichever date is later.\n*   **Business Rationale:** This ensures that the original quality expiration date established when the batch was produced is consistently maintained as it moves between plants. It prevents a batch from having its quality timeline reset during internal transfers.\n\n**Default Behavior:**\n*   If none of the rules above apply, the system will use the standard SAP logic to calculate the inspection end date.\n\n**4.2 Error Handling, Reconciliation, and Reporting**\n*To ensure system integrity and provide visibility into failures of the custom logic, a robust error handling and reporting process is required.*\n\n**Error Logging Process:**\n*Any failure within the enhancement (e.g., data inconsistency, unexpected system error) will be logged. The enhancement will gracefully exit, allowing the standard SAP process to complete. The specific failure reason will be captured for reporting.*\n\n**Process for Error Resolution:**\n*The responsible business teams (Quality Management, Master Data Governance) will use the Exception Monitoring Report to identify, investigate, and resolve issues. Resolution typically involves correcting the source data (e.g., in table `ZGMTD_CLD_PGI` or Material Master) and manually updating the inspection lot end date via transaction QA02.*\n\n**4.2.2 Exception Monitoring Report (New Requirement)**\n*A new report is required to provide business users with visibility into all instances where the automatic end-date calculation logic could not be successfully executed.*\n\n*   **Report Title:** ZQM_ENDDATE_FAILURE - QM Lot End Date Logic Exceptions\n*   **Purpose:** To identify inspection lots that require manual review and correction of the inspection end date due to a failure in the automated logic. This report is the primary control mechanism for mitigating the risks of \"silent failures.\"\n*   **Selection Criteria:** Plant, Material, Inspection Lot Creation Date Range.\n*   **Report Output Fields:**\n    *   Inspection Lot Number\n    *   Material Number\n    *   Material Description\n    *   Batch Number\n    *   Plant\n    *   Inspection Type\n    *   Movement Type\n    *   Inspection Lot Creation Date & Time\n    *   **Reason for Failure:** A clear text field explaining why the logic failed (e.g., \"Multiple cool-down records found,\" \"No historical lot found for stock transfer,\" \"Invalid data in ZGMTD_CLD_PGI\").\n*   **Access & Security:** The report shall be accessible to users with roles assigned to the **Plant Quality Management** and **Master Data Governance** teams.\n*   **Execution & Scheduling:** The report must be available to run on-demand. Additionally, it will be scheduled to run daily (e.g., at 6:00 AM) and the output emailed to a distribution list of key quality and master data personnel for proactive review.\n\n<br>\n\n### **5. Nonfunctional requirements**\n*(This section would be filled in during the project lifecycle.)*\n\n---\n\n### **6. Technical Interface Specifications**\n\n#### **6.1. Enhancement/Object Details**\n\n| Item | Description |\n| :--- | :--- |\n| **Object Type** | Business Add-In (BAdI) Implementation |\n| **Enhancement Spot** | `QPL10001` - Enhancements for Inspection Lot Creation |\n| **BAdI Definition** | `QPL1_INSP_LOT_CREATE` - BAdI for Inspection Lot Creation |\n| **BAdI Implementation Name** | `ZMTD_QPL1_INSP_LOT_CREATE` |\n| **Implementing Class** | `ZCL_MTD_QPL1_INSP_LOT_CREATE` |\n| **Method to Implement** | `IF_EX_QPL1_INSP_LOT_CREATE~CREATE_INSP_LOT` |\n| **Legacy Object to Decommission**| User-Exit `EXIT_SAPLQPL1_002` (Code within include `ZXQPLU02` should be migrated to the BAdI and the exit implementation deactivated/cleared). |\n\n#### **6.2. RICEFW Object Summary**\n\n| ID | Type | Object Name | Description |\n| :--- | :--- | :--- | :--- |\n| 1 | Enhancement | `ZMTD_QPL1_INSP_LOT_CREATE` | BAdI implementation to modify inspection lot end date based on business rules. |\n| 2 | Class | `ZCL_MTD_QPL1_INSP_LOT_CREATE` | Class containing the core logic for the BAdI implementation. |\n| 3 | Table | `ZGMTD_CLD_PGI` | Custom table storing Cool-Down duration per Material and Plant. |\n| 4 | Class | `ZCL_GXAP_COMMON_CLASS` | Common framework class to check if the enhancement is active. |\n| 5 | Report | `ZQM_ENDDATE_FAILURE` | **(New)** Daily report to identify inspection lots where the logic failed due to configuration issues (e.g., multiple cool-down records). |\n\n\n#### **6.3. Detailed Logic Flow**\n\nThe logic will be implemented within the method `IF_EX_QPL1_INSP_LOT_CREATE~CREATE_INSP_LOT` of the class `ZCL_MTD_QPL1_INSP_LOT_CREATE`. The changing parameter `C_QALS` will be used to update the inspection lot data. The BAdI provides importing parameters like `I_QALS` (Inspection Lot Header) and `I_IMSEG` (Material Document Item).\n\n**Execution Trigger:** The BAdI is triggered during the creation of an inspection lot, for example, via goods movements in transactions like MIGO, MB1B, etc.\n\n**Step 1: Central Activation Check**\n*   The first step within the method is to call the central activation check to ensure the enhancement `SR162489` is globally active for the 'MTD' business area. If not active, the method will exit immediately.\n\n**Step 2: Rule 1 - Return Orders**\n*   **Condition:** If `c_qals-art = '05'` OR `i_imseg-bwart = '655'`.\n*   **Logic:**\n    1.  Determine the highest year available in the factory calendar for the plant (`c_qals-werk`).\n    2.  Update `c_qals-paendterm` with the last day of that year (e.g., '29991231').\n    3.  Set `e_active = 'X'` and exit further processing.\n\n**Step 3: Rule 2 - Cool-Down Period Calculation**\n*   **Condition:** If `c_qals-art` is `'08'` or `'Z01'` AND `i_imseg-bwart = '101'`.\n*   **Logic:**\n    1.  `SELECT * FROM zgmtd_cld_pgi` into an internal table where `matnr = c_qals-matnr` and `werks = c_qals-werk`.\n    2.  Check the number of records found (`sy-dbcnt`).\n        *   If `sy-dbcnt > 1` or `sy-dbcnt = 0`, exit this rule's logic. These cases represent a data error or no applicable rule, respectively. The exception report will catch the data error.\n    3.  If `sy-dbcnt = 1`:\n        a. Convert the start date/time to a timestamp.\n        b. Convert the cool-down duration from the table into seconds.\n        c. Add the seconds to the timestamp.\n        d. Convert the new timestamp back into a date and time.\n        e. Update `c_qals-paendterm` and `c_qals-paendzeit`.\n    4.  Set `e_active = 'X'`.\n\n**Step 4: Rule 3 - History-Based Date Calculation**\n*   **Condition:** If `c_qals-art` is `'08'` or `'Z01'` AND `i_imseg-bwart` is in (`'322'`, `'349'`, `'Z49'`).\n*   **Logic:**\n    1.  First, `SELECT` from `QALS` for inspection lots with `art = '04'` for the same material, batch, and plant.\n    2.  If no records are found, `SELECT` again from `QALS` for lots with `art` in (`'08'`, `'Z01'`).\n    3.  If any historical lots are found:\n        a. Sort the results to find the most recent one.\n        b. Set `c_qals-paendterm` to the later of the historical end date and today's date (`sy-datum`).\n    4.  Set `e_active = 'X'`.\n\n---\n\n### **7. Unit Test Scenarios**\n\nThe following scenarios must be executed in a development environment to validate the BAdI implementation. Testing will be performed by creating goods movements via transaction **MIGO**.\n\n| # | Scenario Description | Pre-conditions / Test Data | Execution Steps | Expected Result |\n| :--- | :--- | :--- | :--- | :--- |\n| **1** | **Inactive Enhancement:** Global switch is off. | In the control table, ensure the 'Active' flag is OFF for Exit ID `SR162489`. | Post a goods movement for any of the relevant scenarios below (e.g., MvT 101, Insp. Type 08). | The inspection lot is created with the standard end date. The BAdI logic is not executed. |\n| **2** | **Rule 1: Return Order:** Insp. Type '05' | Material master set up for Insp. Type '05'. Plant has a factory calendar with end year `2999`. | Post a return delivery goods receipt (MvT 655). | The `PAENDTERM` (Insp. Lot End Date) is set to `29991231`. |\n| **3** | **Rule 2: Cool-Down (Success):** Single record found. | - Material `M-COOL-1`, Plant `P100`. <br>- Insp. Type `08` is active. <br>- In `ZGMTD_CLD_PGI`, one entry exists for `M-COOL-1`/`P100` with cool-down duration. | Post a GR (MvT 101) for `M-COOL-1`/`P100`. | The `PAENDTERM` is calculated as the creation date/time + the cool-down duration. |\n| **4** | **Rule 2: Cool-Down (Data Error):** Multiple records found. | - Material `M-COOL-2`, Plant `P100`. <br>- Insp. Type `Z01` is active. <br>- In `ZGMTD_CLD_PGI`, **two** entries exist for `M-COOL-2`/`P100`. | Post a GR (MvT 101) for `M-COOL-2`/`P100`. | The inspection lot is created with the standard end date. The cool-down logic is skipped. |\n| **5** | **Rule 2: Cool-Down (No Data):** No record found. | - Material `M-COOL-3`, Plant `P100`. <br>- Insp. Type `08` is active. <br>- In `ZGMTD_CLD_PGI`, **no** entry exists for `M-COOL-3`/`P100`. | Post a GR (MvT 101) for `M-COOL-3`/`P100`. | The inspection lot is created with the standard end date. |\n| **6** | **Rule 3: History (Type '04' found):** Inherit date from '04' lot. | - Material `M-HIST-1`, Batch `B1`, Plant `P100`. <br>- An existing inspection lot of type `04` for this combo has `PAENDTERM` = `(today + 20 days)`. | Post a stock transfer reversal (MvT 322) for `M-HIST-1`/`B1`/`P100`, creating an `08` lot. | The new inspection lot's `PAENDTERM` is set to `(today + 20 days)`. |\n| **7** | **Rule 3: History (Only '08' found):** Inherit date from '08' lot. | - Material `M-HIST-2`, Batch `B2`, Plant `P100`. <br>- No `04` lots exist. <br>- An existing `08` lot has `PAENDTERM` = `(today + 30 days)`. | Post a stock transfer reversal (MvT 349) for `M-HIST-2`/`B2`/`P100`. | The new inspection lot's `PAENDTERM` is set to `(today + 30 days)`. |\n| **8** | **Rule 3: History (Past Date):** Historical date is in the past. | - Material `M-HIST-3`, Batch `B3`, Plant `P100`. <br>- An existing `04` lot has `PAENDTERM` = `(today - 10 days)`. | Post a stock transfer (MvT Z49) for `M-HIST-3`/`B3`/`P100`. | The new inspection lot's `PAENDTERM` is set to `sy-datum` (today's date). |\n| **9** | **Non-Relevant Movement:** MvT not in scope. | Material master set up for Insp. Type '08'. | Post a goods movement with a non-relevant MvT (e.g., 501). | The inspection lot is created with the standard end date. The BAdI logic is not triggered for this case. |\n\n### **8. Attachments and Documentation**\n*(This section would be filled in during the project lifecycle.)*"
          },
          "metadata": {},
          "execution_count": 34
        }
      ]
    },
    {
      "cell_type": "code",
      "source": [],
      "metadata": {
        "id": "vNDsYzhRZRSQ"
      },
      "execution_count": null,
      "outputs": []
    }
  ]
}